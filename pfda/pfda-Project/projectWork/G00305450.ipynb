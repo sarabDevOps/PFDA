{
 "cells": [
  {
   "cell_type": "code",
   "execution_count": null,
   "id": "7d05c3d5-6917-4284-ac36-7b33f76d4feb",
   "metadata": {},
   "outputs": [],
   "source": [
    "# How much is wind power at a particular location ?\n",
    "# Station Name : OAK PARK \n",
    "# Wind speed is analysed by hourly basic "
   ]
  },
  {
   "cell_type": "code",
   "execution_count": null,
   "id": "9fcd5ddd-bae6-4afd-8da9-d4bd3daccb54",
   "metadata": {},
   "outputs": [],
   "source": [
    "#steps \n",
    "\n",
    "# load data \n",
    "# from file name \n",
    "# Rename columns to match the dataset's ddescription "
   ]
  }
 ],
 "metadata": {
  "kernelspec": {
   "display_name": "Python 3 (ipykernel)",
   "language": "python",
   "name": "python3"
  },
  "language_info": {
   "codemirror_mode": {
    "name": "ipython",
    "version": 3
   },
   "file_extension": ".py",
   "mimetype": "text/x-python",
   "name": "python",
   "nbconvert_exporter": "python",
   "pygments_lexer": "ipython3",
   "version": "3.11.7"
  }
 },
 "nbformat": 4,
 "nbformat_minor": 5
}
