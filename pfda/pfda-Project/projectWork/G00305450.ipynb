{
 "cells": [
  {
   "cell_type": "code",
   "execution_count": null,
   "id": "7d05c3d5-6917-4284-ac36-7b33f76d4feb",
   "metadata": {},
   "outputs": [],
   "source": [
    "# How much is wind power at a particular location ?\n",
    "# Station Name : OAK PARK \n",
    "# Wind speed is analysed by hourly basic "
   ]
  },
  {
   "cell_type": "code",
   "execution_count": 2,
   "id": "9fcd5ddd-bae6-4afd-8da9-d4bd3daccb54",
   "metadata": {},
   "outputs": [
    {
     "name": "stdout",
     "output_type": "stream",
     "text": [
      "                     date  ind rain  ind.1  temp  ind.2  wetb dewpt vappr  \\\n",
      "0       01-aug-2003 01:00   -1           4            4                     \n",
      "1       01-aug-2003 02:00   -1           4            4                     \n",
      "2       01-aug-2003 03:00   -1           4            4                     \n",
      "3       01-aug-2003 04:00   -1           4            4                     \n",
      "4       01-aug-2003 05:00   -1           4            4                     \n",
      "...                   ...  ...  ...    ...   ...    ...   ...   ...   ...   \n",
      "187027  30-nov-2024 20:00    0  0.5      0  13.4      0  13.0  12.7  14.6   \n",
      "187028  30-nov-2024 21:00    0  1.5      0  13.3      0  12.9  12.7  14.6   \n",
      "187029  30-nov-2024 22:00    0  0.2      0  13.4      0  12.8  12.3  14.3   \n",
      "187030  30-nov-2024 23:00    0  0.3      0  13.1      0  12.4  11.8  13.9   \n",
      "187031  01-dec-2024 00:00    0  0.0      0  13.0      0  12.5  12.0  14.0   \n",
      "\n",
      "       rhum     msl  ind.3 wdsp  ind.4 wddir  \n",
      "0                        7           7        \n",
      "1                        7           7        \n",
      "2                        7           7        \n",
      "3                        7           7        \n",
      "4                        7           7        \n",
      "...     ...     ...    ...  ...    ...   ...  \n",
      "187027   95  1008.8      2   16      2   180  \n",
      "187028   96  1009.1      2   16      2   180  \n",
      "187029   93  1009.0      2   13      2   180  \n",
      "187030   92  1008.7      2   14      2   190  \n",
      "187031   93  1008.5      2   11      2   190  \n",
      "\n",
      "[187032 rows x 15 columns]\n"
     ]
    },
    {
     "name": "stderr",
     "output_type": "stream",
     "text": [
      "C:\\Users\\sarab\\AppData\\Local\\Temp\\ipykernel_23440\\4022139721.py:13: DtypeWarning: Columns (2,4,6,7,8,9,10,12) have mixed types. Specify dtype option on import or set low_memory=False.\n",
      "  data = pd.read_csv(file_path, skiprows=17)  # Skip the first 17 rows of metadata\n"
     ]
    }
   ],
   "source": [
    "import pandas as pd\n",
    "\n",
    "\n",
    "#steps \n",
    "\n",
    "# load data \n",
    "# from file name \n",
    "file_path = 'C:/Users/sarab/Downloads/hly375/hly375/hly375.csv'\n",
    "data = pd.read_csv(file_path, skiprows=17)  # Skip the first 17 rows of metadata\n",
    "\n",
    "print(data)\n",
    "\n",
    "\n",
    "\n",
    "\n",
    "\n",
    "# Rename columns to match the dataset's ddescription "
   ]
  },
  {
   "cell_type": "code",
   "execution_count": null,
   "id": "c5f3238e-b858-4ab5-90c0-c12c62af53f2",
   "metadata": {},
   "outputs": [],
   "source": []
  }
 ],
 "metadata": {
  "kernelspec": {
   "display_name": "Python 3 (ipykernel)",
   "language": "python",
   "name": "python3"
  },
  "language_info": {
   "codemirror_mode": {
    "name": "ipython",
    "version": 3
   },
   "file_extension": ".py",
   "mimetype": "text/x-python",
   "name": "python",
   "nbconvert_exporter": "python",
   "pygments_lexer": "ipython3",
   "version": "3.11.7"
  }
 },
 "nbformat": 4,
 "nbformat_minor": 5
}
