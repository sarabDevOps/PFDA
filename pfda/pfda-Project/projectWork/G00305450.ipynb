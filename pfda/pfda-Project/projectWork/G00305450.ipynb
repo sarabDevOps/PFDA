{
 "cells": [
  {
   "cell_type": "code",
   "execution_count": null,
   "id": "7d05c3d5-6917-4284-ac36-7b33f76d4feb",
   "metadata": {},
   "outputs": [],
   "source": [
    "# How much is wind power at a particular location ?\n",
    "# Station Name : OAK PARK \n",
    "# Wind speed is analysed by hourly basic "
   ]
  },
  {
   "cell_type": "code",
   "execution_count": 4,
   "id": "9fcd5ddd-bae6-4afd-8da9-d4bd3daccb54",
   "metadata": {},
   "outputs": [
    {
     "name": "stderr",
     "output_type": "stream",
     "text": [
      "C:\\Users\\sarab\\AppData\\Local\\Temp\\ipykernel_23440\\384118421.py:10: DtypeWarning: Columns (2,4,6,7,8,9,10,12) have mixed types. Specify dtype option on import or set low_memory=False.\n",
      "  data = pd.read_csv(file_path, skiprows=17)  # Skip the first 17 rows of metadata\n"
     ]
    },
    {
     "name": "stdout",
     "output_type": "stream",
     "text": [
      "                     date  ind rain  ind.1  temp  ind.2  wetb dewpt vappr  \\\n",
      "0       01-aug-2003 01:00   -1           4            4                     \n",
      "1       01-aug-2003 02:00   -1           4            4                     \n",
      "2       01-aug-2003 03:00   -1           4            4                     \n",
      "3       01-aug-2003 04:00   -1           4            4                     \n",
      "4       01-aug-2003 05:00   -1           4            4                     \n",
      "...                   ...  ...  ...    ...   ...    ...   ...   ...   ...   \n",
      "187027  30-nov-2024 20:00    0  0.5      0  13.4      0  13.0  12.7  14.6   \n",
      "187028  30-nov-2024 21:00    0  1.5      0  13.3      0  12.9  12.7  14.6   \n",
      "187029  30-nov-2024 22:00    0  0.2      0  13.4      0  12.8  12.3  14.3   \n",
      "187030  30-nov-2024 23:00    0  0.3      0  13.1      0  12.4  11.8  13.9   \n",
      "187031  01-dec-2024 00:00    0  0.0      0  13.0      0  12.5  12.0  14.0   \n",
      "\n",
      "       rhum     msl  ind.3 wdsp  ind.4 wddir  \n",
      "0                        7           7        \n",
      "1                        7           7        \n",
      "2                        7           7        \n",
      "3                        7           7        \n",
      "4                        7           7        \n",
      "...     ...     ...    ...  ...    ...   ...  \n",
      "187027   95  1008.8      2   16      2   180  \n",
      "187028   96  1009.1      2   16      2   180  \n",
      "187029   93  1009.0      2   13      2   180  \n",
      "187030   92  1008.7      2   14      2   190  \n",
      "187031   93  1008.5      2   11      2   190  \n",
      "\n",
      "[187032 rows x 15 columns]\n"
     ]
    },
    {
     "name": "stderr",
     "output_type": "stream",
     "text": [
      "C:\\Users\\sarab\\AppData\\Local\\Temp\\ipykernel_23440\\384118421.py:45: UserWarning: Could not infer format, so each element will be parsed individually, falling back to `dateutil`. To ensure parsing is consistent and as-expected, please specify a format.\n",
      "  data_cleaned['date'] = pd.to_datetime(data_cleaned['date'], errors='coerce')\n",
      "C:\\Users\\sarab\\AppData\\Local\\Temp\\ipykernel_23440\\384118421.py:45: SettingWithCopyWarning: \n",
      "A value is trying to be set on a copy of a slice from a DataFrame.\n",
      "Try using .loc[row_indexer,col_indexer] = value instead\n",
      "\n",
      "See the caveats in the documentation: https://pandas.pydata.org/pandas-docs/stable/user_guide/indexing.html#returning-a-view-versus-a-copy\n",
      "  data_cleaned['date'] = pd.to_datetime(data_cleaned['date'], errors='coerce')\n"
     ]
    },
    {
     "data": {
      "text/plain": [
       "184638"
      ]
     },
     "execution_count": 4,
     "metadata": {},
     "output_type": "execute_result"
    }
   ],
   "source": [
    "import pandas as pd\n",
    "import sqlite3\n",
    "\n",
    "\n",
    "#steps \n",
    "\n",
    "# load data \n",
    "# from file name \n",
    "file_path = 'C:/Users/sarab/Downloads/hly375/hly375/hly375.csv'\n",
    "data = pd.read_csv(file_path, skiprows=17)  # Skip the first 17 rows of metadata\n",
    "\n",
    "print(data)\n",
    "\n",
    "\n",
    "\n",
    "\n",
    "\n",
    "# Rename columns to match the dataset's ddescription \n",
    "data.columns = ['date', 'irain', 'rain', 'itemp', 'temp', 'iwetb', 'wetb', 'dewpt', 'vappr', 'rhum', 'msl', 'iwsdp', 'wdsp', 'iwddir', 'wddir']\n",
    "\n",
    "\n",
    "\n",
    "# Apply column-wise filtering based on indicators\n",
    "# Rainfall: Keep rows where irain is between 0 and 6, drop rain values where irain == -1\n",
    "data.loc[data['irain'] == -1, 'rain'] = None\n",
    "\n",
    "\n",
    "# Temperature: Drop temp values where itemp == 4\n",
    "data.loc[data['itemp'] == 4, 'temp'] = None\n",
    "\n",
    "# Wet Bulb: Drop wetb values where iwetb == 4\n",
    "data.loc[data['iwetb'] == 4, 'wetb'] = None\n",
    "\n",
    "# Wind Speed: Drop wdsp values where iwsdp == 7\n",
    "data.loc[data['iwsdp'] == 7, 'wdsp'] = None\n",
    "\n",
    "# Wind Direction: Drop wddir values where iwddir == 7\n",
    "data.loc[data['iwddir'] == 7, 'wddir'] = None\n",
    "\n",
    "\n",
    "# Drop rows with missing values in any critical columns\n",
    "data_cleaned = data.dropna(subset=['rain', 'temp', 'wetb', 'wdsp', 'wddir'])\n",
    "\n",
    "# Convert date column to datetime format\n",
    "data_cleaned['date'] = pd.to_datetime(data_cleaned['date'], errors='coerce')\n",
    "data_cleaned = data_cleaned.dropna(subset=['date'])\n",
    "\n",
    "\n",
    "\n",
    "\n",
    "\n",
    "\n",
    "\n",
    "\n",
    "\n",
    "\n",
    "\n"
   ]
  },
  {
   "cell_type": "code",
   "execution_count": null,
   "id": "c5f3238e-b858-4ab5-90c0-c12c62af53f2",
   "metadata": {},
   "outputs": [],
   "source": []
  }
 ],
 "metadata": {
  "kernelspec": {
   "display_name": "Python 3 (ipykernel)",
   "language": "python",
   "name": "python3"
  },
  "language_info": {
   "codemirror_mode": {
    "name": "ipython",
    "version": 3
   },
   "file_extension": ".py",
   "mimetype": "text/x-python",
   "name": "python",
   "nbconvert_exporter": "python",
   "pygments_lexer": "ipython3",
   "version": "3.11.7"
  }
 },
 "nbformat": 4,
 "nbformat_minor": 5
}
